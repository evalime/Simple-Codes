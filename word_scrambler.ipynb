{
 "cells": [
  {
   "cell_type": "code",
   "execution_count": 299,
   "metadata": {},
   "outputs": [],
   "source": [
    "import random\n",
    "\n",
    "substrings = [',','!','.','()',\"'\"]\n",
    "\n",
    "def scramble(text):\n",
    "    wordCount  = len(text)\n",
    "\n",
    "    textIndex = -1\n",
    "    \n",
    "    newList = []\n",
    "    \n",
    "    for sub in substrings:\n",
    "        if text.find(sub) > 0:\n",
    "            textIndex = text.find(sub) \n",
    "\n",
    "    for i in random.sample(range(wordCount), wordCount):\n",
    "        splitTxt =  list(text)\n",
    "        newList.append(splitTxt[i])\n",
    "        \n",
    "    if textIndex > 0:\n",
    "        newIndex = newList.index(text[textIndex])\n",
    "        newList[textIndex], newList[newIndex] = newList[newIndex], newList[textIndex]\n",
    "\n",
    "    finshedText = ''.join(newList)\n",
    "        \n",
    "    return finshedText\n",
    "\n",
    "def scrambleWords(sentences):\n",
    "\n",
    "    textList = []\n",
    "\n",
    "    for sentence in sentences.split():  \n",
    "        textList.append(scramble(sentence))\n",
    "\n",
    "    finishedSentence = ' '.join(textList)\n",
    "\n",
    "    return finishedSentence   "
   ]
  },
  {
   "cell_type": "code",
   "execution_count": 300,
   "metadata": {},
   "outputs": [
    {
     "data": {
      "text/plain": [
       "'In sthi tolairtu, ew lliw reanl uboat eht oyhnPt tsil nped)a(p mtdoeh hwti het hple fo mxaeepsl.'"
      ]
     },
     "execution_count": 300,
     "metadata": {},
     "output_type": "execute_result"
    }
   ],
   "source": [
    "text = 'In this tutorial, we will learn about the Python list append() method with the help of examples.'\n",
    "scrambleWords(text)"
   ]
  }
 ],
 "metadata": {
  "interpreter": {
   "hash": "f8f8baf9350877c5fb0fcfa1133d106fd3909146aa99e6e610e0078814b61386"
  },
  "kernelspec": {
   "display_name": "Python 3.9.7 64-bit ('base': conda)",
   "language": "python",
   "name": "python3"
  },
  "language_info": {
   "codemirror_mode": {
    "name": "ipython",
    "version": 3
   },
   "file_extension": ".py",
   "mimetype": "text/x-python",
   "name": "python",
   "nbconvert_exporter": "python",
   "pygments_lexer": "ipython3",
   "version": "3.9.7"
  },
  "orig_nbformat": 4
 },
 "nbformat": 4,
 "nbformat_minor": 2
}
