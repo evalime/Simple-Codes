{
 "cells": [
  {
   "cell_type": "code",
   "execution_count": 172,
   "metadata": {},
   "outputs": [],
   "source": [
    "import random\n",
    "\n",
    "substrings = [',','!','.']\n",
    "\n",
    "def scramble(text):\n",
    "    wordCount  = len(text)\n",
    "    \n",
    "    newList = []\n",
    "\n",
    "    for i in random.sample(range(wordCount), wordCount):\n",
    "        splitTxt =  list(text)\n",
    "        newList.append(splitTxt[i])\n",
    "    finshedText = ''.join(newList)\n",
    "        \n",
    "    return finshedText\n",
    "\n",
    "def scrambleWords(sentences):\n",
    "\n",
    "    textList = []\n",
    "    global textList_2\n",
    "    textList_2 = []\n",
    "\n",
    "    for sentence in sentences.split():\n",
    "        sentence.find()\n",
    "        if sentence[-1] in substrings:\n",
    "            textList_2 = scramble(sentence[0:-1])\n",
    "            textList_2 = ''.join((textList_2,sentence[-1]))\n",
    "            textList.append(textList_2)\n",
    "        else:\n",
    "            textList.append(scramble(sentence))\n",
    "\n",
    "    finishedSentence = ' '.join(textList)\n",
    "\n",
    "    return finishedSentence   "
   ]
  },
  {
   "cell_type": "code",
   "execution_count": 173,
   "metadata": {},
   "outputs": [
    {
     "data": {
      "text/plain": [
       "'In siht tliurato, ew lliw laner oubta the Ponhyt lsti da()penp hoedtm hwit eht hple fo eampslxe.'"
      ]
     },
     "execution_count": 173,
     "metadata": {},
     "output_type": "execute_result"
    }
   ],
   "source": [
    "text = 'In this tutorial, we will learn about the Python list append() method with the help of examples.'\n",
    "scrambleWords(text)"
   ]
  },
  {
   "cell_type": "code",
   "execution_count": 193,
   "metadata": {},
   "outputs": [
    {
     "ename": "IndentationError",
     "evalue": "expected an indented block (737133176.py, line 5)",
     "output_type": "error",
     "traceback": [
      "\u001b[0;36m  File \u001b[0;32m\"/var/folders/j3/b0jmbzxx20qd_5r_g76jyh0w0000gn/T/ipykernel_17004/737133176.py\"\u001b[0;36m, line \u001b[0;32m5\u001b[0m\n\u001b[0;31m    return x\u001b[0m\n\u001b[0m    ^\u001b[0m\n\u001b[0;31mIndentationError\u001b[0m\u001b[0;31m:\u001b[0m expected an indented block\n"
     ]
    }
   ],
   "source": [
    "text = 'tutorial,'\n",
    "try:\n",
    "    text.index(',')\n",
    "except ValueError as ve:\n",
    "return x"
   ]
  },
  {
   "cell_type": "code",
   "execution_count": 184,
   "metadata": {},
   "outputs": [
    {
     "name": "stdout",
     "output_type": "stream",
     "text": [
      "8\n"
     ]
    }
   ],
   "source": [
    "for i in range(0,len(text)):\n",
    "    if text[i] == ',':\n",
    "        print(i)\n",
    "    "
   ]
  },
  {
   "cell_type": "code",
   "execution_count": 120,
   "metadata": {},
   "outputs": [
    {
     "data": {
      "text/plain": [
       "'orautilt,'"
      ]
     },
     "execution_count": 120,
     "metadata": {},
     "output_type": "execute_result"
    }
   ],
   "source": [
    "textList"
   ]
  }
 ],
 "metadata": {
  "interpreter": {
   "hash": "f8f8baf9350877c5fb0fcfa1133d106fd3909146aa99e6e610e0078814b61386"
  },
  "kernelspec": {
   "display_name": "Python 3.9.7 64-bit ('base': conda)",
   "language": "python",
   "name": "python3"
  },
  "language_info": {
   "codemirror_mode": {
    "name": "ipython",
    "version": 3
   },
   "file_extension": ".py",
   "mimetype": "text/x-python",
   "name": "python",
   "nbconvert_exporter": "python",
   "pygments_lexer": "ipython3",
   "version": "3.9.7"
  },
  "orig_nbformat": 4
 },
 "nbformat": 4,
 "nbformat_minor": 2
}
