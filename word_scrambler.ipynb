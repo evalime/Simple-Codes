{
 "cells": [
  {
   "cell_type": "code",
   "execution_count": 2,
   "metadata": {},
   "outputs": [],
   "source": [
    "import random\n",
    "\n",
    "def scramble(text):\n",
    "    wordCount  = len(text)\n",
    "    \n",
    "    newList = []\n",
    "\n",
    "    for i in random.sample(range(wordCount), wordCount):\n",
    "        splitTxt =  list(text)\n",
    "        newList.append(splitTxt[i])\n",
    "        finshedText = ''.join(newList)\n",
    "        \n",
    "    return finshedText\n",
    "\n",
    "def scrambleWords(sentences):\n",
    "\n",
    "    textList = []\n",
    "    \n",
    "    for sentence in sentences.split():\n",
    "        textList.append(scramble(sentence))\n",
    "        finishedSentence = ' '.join(textList)\n",
    "\n",
    "    return finishedSentence   "
   ]
  },
  {
   "cell_type": "code",
   "execution_count": 3,
   "metadata": {},
   "outputs": [
    {
     "data": {
      "text/plain": [
       "'In hist taoi,tlur we lwli narle taobu het ohPynt tsil a)ed(npp tomdeh ithw hte phel of selxmp.ae'"
      ]
     },
     "execution_count": 3,
     "metadata": {},
     "output_type": "execute_result"
    }
   ],
   "source": [
    "text = 'In this tutorial, we will learn about the Python list append() method with the help of examples.'\n",
    "scrambleWords(text)"
   ]
  },
  {
   "cell_type": "code",
   "execution_count": null,
   "metadata": {},
   "outputs": [],
   "source": []
  }
 ],
 "metadata": {
  "interpreter": {
   "hash": "f8f8baf9350877c5fb0fcfa1133d106fd3909146aa99e6e610e0078814b61386"
  },
  "kernelspec": {
   "display_name": "Python 3.9.7 64-bit ('base': conda)",
   "language": "python",
   "name": "python3"
  },
  "language_info": {
   "codemirror_mode": {
    "name": "ipython",
    "version": 3
   },
   "file_extension": ".py",
   "mimetype": "text/x-python",
   "name": "python",
   "nbconvert_exporter": "python",
   "pygments_lexer": "ipython3",
   "version": "3.9.7"
  },
  "orig_nbformat": 4
 },
 "nbformat": 4,
 "nbformat_minor": 2
}
